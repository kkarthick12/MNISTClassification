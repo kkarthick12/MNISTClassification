{
  "cells": [
    {
      "cell_type": "code",
      "execution_count": 1,
      "metadata": {
        "id": "aBPyla1CtCzj"
      },
      "outputs": [],
      "source": [
        "import tensorflow as tf\n",
        "from tensorflow.keras import layers, models"
      ]
    },
    {
      "cell_type": "code",
      "execution_count": 2,
      "metadata": {
        "id": "LsOVZf1i7iPF",
        "colab": {
          "base_uri": "https://localhost:8080/"
        },
        "outputId": "dbf83ff1-9371-4282-c33a-ca970649ea6b"
      },
      "outputs": [
        {
          "output_type": "stream",
          "name": "stdout",
          "text": [
            "Downloading data from https://storage.googleapis.com/tensorflow/tf-keras-datasets/mnist.npz\n",
            "11490434/11490434 [==============================] - 0s 0us/step\n"
          ]
        }
      ],
      "source": [
        "mnist = tf.keras.datasets.mnist\n",
        "\n",
        "(x_train, y_train),(x_test, y_test) = mnist.load_data()\n",
        "x_train, x_test = x_train / 255.0, x_test / 255.0\n",
        "# brightness of images (8 bits intensity of each image)\n",
        "\n",
        "ndata_train = x_train.shape[0]\n",
        "ndata_test = x_test.shape[0]\n"
      ]
    },
    {
      "cell_type": "code",
      "execution_count": 3,
      "metadata": {
        "colab": {
          "base_uri": "https://localhost:8080/"
        },
        "id": "9cyV64kQ7kuY",
        "outputId": "7dcfbf66-d276-4dff-a282-a31714e48c16"
      },
      "outputs": [
        {
          "output_type": "execute_result",
          "data": {
            "text/plain": [
              "(28, 28, 1)"
            ]
          },
          "metadata": {},
          "execution_count": 3
        }
      ],
      "source": [
        "x_train = x_train.reshape((ndata_train,28,28,1))\n",
        "x_test = x_test.reshape((ndata_test,28,28,1))\n",
        "\n",
        "\n",
        "xshape = x_train.shape[1:4]\n",
        "xshape"
      ]
    },
    {
      "cell_type": "code",
      "source": [
        "class CNN_Basic(tf.keras.Model):\n",
        "    def __init__(self):\n",
        "        super(CNN_Basic, self).__init__()\n",
        "        self.conv_layer = tf.keras.Sequential([\n",
        "            layers.Conv2D(32, kernel_size=(3, 3), strides=1, padding='same', input_shape=(28, 28, 1)),\n",
        "            layers.BatchNormalization(),\n",
        "            layers.ReLU(),\n",
        "            layers.Conv2D(32, kernel_size=(3, 3), strides=1, padding='same'),\n",
        "            layers.BatchNormalization(),\n",
        "            layers.ReLU(),\n",
        "            layers.MaxPooling2D(pool_size=2, strides=2),\n",
        "            layers.Dropout(0.1),  # Standard dropout rate\n",
        "\n",
        "            layers.Conv2D(64, kernel_size=(3, 3), strides=1, padding='same'),\n",
        "            layers.BatchNormalization(),\n",
        "            layers.ReLU(),\n",
        "            layers.Conv2D(64, kernel_size=(3, 3), strides=1, padding='same'),\n",
        "            layers.BatchNormalization(),\n",
        "            layers.ReLU(),\n",
        "            layers.MaxPooling2D(pool_size=2, strides=2),\n",
        "            layers.Dropout(0.1),  # Standard dropout rate\n",
        "\n",
        "            layers.Conv2D(128, kernel_size=(3, 3), strides=1, padding='same'),\n",
        "            layers.BatchNormalization(),\n",
        "            layers.ReLU(),\n",
        "            layers.MaxPooling2D(pool_size=2, strides=2),\n",
        "            layers.Dropout(0.1)  # Standard dropout rate, for comparison with modified\n",
        "        ])\n",
        "        self.fc_layer = tf.keras.Sequential([\n",
        "            layers.Flatten(),\n",
        "            layers.Dense(512, activation='relu'),\n",
        "            layers.Dropout(0.1),  # Standard dropout rate, for comparison\n",
        "            layers.Dense(10, activation='softmax')\n",
        "        ])\n",
        "\n",
        "    def call(self, x):\n",
        "        x = self.conv_layer(x)\n",
        "        x = self.fc_layer(x)\n",
        "        return x"
      ],
      "metadata": {
        "id": "JpIAFF5DUtuZ"
      },
      "execution_count": 30,
      "outputs": []
    },
    {
      "cell_type": "code",
      "execution_count": 38,
      "metadata": {
        "id": "NuyE4NX18vva"
      },
      "outputs": [],
      "source": [
        "\n",
        "class CNN_Modified(tf.keras.Model):\n",
        "    def __init__(self):\n",
        "        super(CNN_Modified, self).__init__()\n",
        "        self.conv_layer = tf.keras.Sequential([\n",
        "            # First Conv Block with smaller filter size\n",
        "            layers.Conv2D(32, kernel_size=(3, 3), strides=1, padding='same', input_shape=(28, 28, 1)),\n",
        "            layers.BatchNormalization(),\n",
        "            layers.ReLU(),\n",
        "            layers.Conv2D(32, kernel_size=(3, 3), strides=1, padding='same'),\n",
        "            layers.BatchNormalization(),\n",
        "            layers.ReLU(),\n",
        "            layers.MaxPooling2D(pool_size=2, strides=2),\n",
        "            layers.Dropout(0.3),  # Increased dropout\n",
        "\n",
        "            # Second Conv Block with increased number of filters\n",
        "            layers.Conv2D(64, kernel_size=(3, 3), strides=1, padding='same'),\n",
        "            layers.BatchNormalization(),\n",
        "            layers.ReLU(),\n",
        "            layers.Conv2D(64, kernel_size=(3, 3), strides=1, padding='same'),\n",
        "            layers.BatchNormalization(),\n",
        "            layers.ReLU(),\n",
        "            layers.MaxPooling2D(pool_size=2, strides=2),\n",
        "            layers.Dropout(0.3),  # Increased dropout\n",
        "\n",
        "            # Third Conv Block\n",
        "            layers.Conv2D(128, kernel_size=(3, 3), strides=1, padding='same'),\n",
        "            layers.BatchNormalization(),\n",
        "            layers.ReLU(),\n",
        "            layers.MaxPooling2D(pool_size=2, strides=2),\n",
        "            layers.Dropout(0.4)  # Increased dropout\n",
        "        ])\n",
        "\n",
        "        self.fc_layer = tf.keras.Sequential([\n",
        "            layers.Flatten(),\n",
        "            layers.Dense(512, activation='relu'),\n",
        "            layers.Dropout(0.5),  # Keep high dropout before the final layer\n",
        "            layers.Dense(10, activation='softmax')\n",
        "        ])\n",
        "\n",
        "    def call(self, x):\n",
        "        x = self.conv_layer(x)\n",
        "        x = self.fc_layer(x)\n",
        "        return x"
      ]
    },
    {
      "cell_type": "code",
      "source": [
        "# Preparing the data (assuming x_train, y_train are already loaded and preprocessed)\n",
        "(x_train, y_train), (x_test, y_test) = tf.keras.datasets.mnist.load_data()\n",
        "x_train = x_train[..., tf.newaxis] / 255.0\n",
        "x_test = x_test[..., tf.newaxis] / 255.0"
      ],
      "metadata": {
        "id": "AkN7RU7EVaEt"
      },
      "execution_count": 32,
      "outputs": []
    },
    {
      "cell_type": "code",
      "source": [
        "# Model instantiation\n",
        "model_basic = CNN_Basic()\n",
        "\n",
        "# Model summary (Note: This requires specifying input size to visualize)\n",
        "model_basic.build((None, 28, 28, 1))\n",
        "model_basic.summary()\n",
        "\n",
        "# Model compilation\n",
        "model_basic.compile(optimizer='adam',\n",
        "              loss='sparse_categorical_crossentropy',\n",
        "              metrics=['accuracy'])"
      ],
      "metadata": {
        "colab": {
          "base_uri": "https://localhost:8080/"
        },
        "id": "5UZwzkIzVaYz",
        "outputId": "3745e997-2ca3-47a2-998d-aee93ff36351"
      },
      "execution_count": 33,
      "outputs": [
        {
          "output_type": "stream",
          "name": "stdout",
          "text": [
            "Model: \"cnn__basic_2\"\n",
            "_________________________________________________________________\n",
            " Layer (type)                Output Shape              Param #   \n",
            "=================================================================\n",
            " sequential_6 (Sequential)   (None, 3, 3, 128)         140128    \n",
            "                                                                 \n",
            " sequential_7 (Sequential)   (None, 10)                595466    \n",
            "                                                                 \n",
            "=================================================================\n",
            "Total params: 735594 (2.81 MB)\n",
            "Trainable params: 734954 (2.80 MB)\n",
            "Non-trainable params: 640 (2.50 KB)\n",
            "_________________________________________________________________\n"
          ]
        }
      ]
    },
    {
      "cell_type": "code",
      "source": [
        "model_modified = CNN_Modified()\n",
        "\n",
        "# Model summary (Note: This requires specifying input size to visualize)\n",
        "model_modified.build((None, 28, 28, 1))\n",
        "model_modified.summary()\n",
        "\n",
        "model_modified.compile(optimizer='adam',\n",
        "                       loss='sparse_categorical_crossentropy',\n",
        "                       metrics=['accuracy'])"
      ],
      "metadata": {
        "colab": {
          "base_uri": "https://localhost:8080/"
        },
        "id": "RP_ekkGUXClq",
        "outputId": "edccd2ea-9494-4e52-83cc-37dadf3ef88e"
      },
      "execution_count": 39,
      "outputs": [
        {
          "output_type": "stream",
          "name": "stdout",
          "text": [
            "Model: \"cnn__modified_2\"\n",
            "_________________________________________________________________\n",
            " Layer (type)                Output Shape              Param #   \n",
            "=================================================================\n",
            " sequential_10 (Sequential)  (None, 3, 3, 128)         140128    \n",
            "                                                                 \n",
            " sequential_11 (Sequential)  (None, 10)                595466    \n",
            "                                                                 \n",
            "=================================================================\n",
            "Total params: 735594 (2.81 MB)\n",
            "Trainable params: 734954 (2.80 MB)\n",
            "Non-trainable params: 640 (2.50 KB)\n",
            "_________________________________________________________________\n"
          ]
        }
      ]
    },
    {
      "cell_type": "code",
      "source": [
        "history_basic = model_basic.fit(x_train, y_train, epochs=20, validation_split=0.2, batch_size=128)"
      ],
      "metadata": {
        "colab": {
          "base_uri": "https://localhost:8080/"
        },
        "id": "0ChI1FNvVkok",
        "outputId": "80b372f2-3742-4af1-a216-73c10969472d"
      },
      "execution_count": 35,
      "outputs": [
        {
          "output_type": "stream",
          "name": "stdout",
          "text": [
            "Epoch 1/20\n",
            "375/375 [==============================] - 10s 18ms/step - loss: 0.2478 - accuracy: 0.9312 - val_loss: 0.7410 - val_accuracy: 0.7163\n",
            "Epoch 2/20\n",
            "375/375 [==============================] - 6s 17ms/step - loss: 0.0516 - accuracy: 0.9839 - val_loss: 0.0485 - val_accuracy: 0.9847\n",
            "Epoch 3/20\n",
            "375/375 [==============================] - 6s 17ms/step - loss: 0.0377 - accuracy: 0.9878 - val_loss: 0.0437 - val_accuracy: 0.9862\n",
            "Epoch 4/20\n",
            "375/375 [==============================] - 7s 18ms/step - loss: 0.0308 - accuracy: 0.9900 - val_loss: 0.0335 - val_accuracy: 0.9902\n",
            "Epoch 5/20\n",
            "375/375 [==============================] - 7s 18ms/step - loss: 0.0265 - accuracy: 0.9914 - val_loss: 0.0341 - val_accuracy: 0.9894\n",
            "Epoch 6/20\n",
            "375/375 [==============================] - 6s 17ms/step - loss: 0.0228 - accuracy: 0.9929 - val_loss: 0.0332 - val_accuracy: 0.9893\n",
            "Epoch 7/20\n",
            "375/375 [==============================] - 6s 17ms/step - loss: 0.0204 - accuracy: 0.9932 - val_loss: 0.0303 - val_accuracy: 0.9916\n",
            "Epoch 8/20\n",
            "375/375 [==============================] - 6s 17ms/step - loss: 0.0191 - accuracy: 0.9936 - val_loss: 0.0326 - val_accuracy: 0.9914\n",
            "Epoch 9/20\n",
            "375/375 [==============================] - 7s 18ms/step - loss: 0.0185 - accuracy: 0.9934 - val_loss: 0.0253 - val_accuracy: 0.9924\n",
            "Epoch 10/20\n",
            "375/375 [==============================] - 6s 17ms/step - loss: 0.0149 - accuracy: 0.9948 - val_loss: 0.0280 - val_accuracy: 0.9927\n",
            "Epoch 11/20\n",
            "375/375 [==============================] - 7s 17ms/step - loss: 0.0161 - accuracy: 0.9944 - val_loss: 0.0391 - val_accuracy: 0.9898\n",
            "Epoch 12/20\n",
            "375/375 [==============================] - 6s 16ms/step - loss: 0.0142 - accuracy: 0.9955 - val_loss: 0.0320 - val_accuracy: 0.9912\n",
            "Epoch 13/20\n",
            "375/375 [==============================] - 7s 17ms/step - loss: 0.0103 - accuracy: 0.9965 - val_loss: 0.0350 - val_accuracy: 0.9912\n",
            "Epoch 14/20\n",
            "375/375 [==============================] - 6s 17ms/step - loss: 0.0135 - accuracy: 0.9952 - val_loss: 0.0426 - val_accuracy: 0.9906\n",
            "Epoch 15/20\n",
            "375/375 [==============================] - 6s 17ms/step - loss: 0.0115 - accuracy: 0.9960 - val_loss: 0.0330 - val_accuracy: 0.9923\n",
            "Epoch 16/20\n",
            "375/375 [==============================] - 6s 17ms/step - loss: 0.0103 - accuracy: 0.9964 - val_loss: 0.0252 - val_accuracy: 0.9942\n",
            "Epoch 17/20\n",
            "375/375 [==============================] - 6s 17ms/step - loss: 0.0094 - accuracy: 0.9969 - val_loss: 0.0270 - val_accuracy: 0.9931\n",
            "Epoch 18/20\n",
            "375/375 [==============================] - 7s 17ms/step - loss: 0.0083 - accuracy: 0.9969 - val_loss: 0.0255 - val_accuracy: 0.9937\n",
            "Epoch 19/20\n",
            "375/375 [==============================] - 6s 17ms/step - loss: 0.0089 - accuracy: 0.9970 - val_loss: 0.0248 - val_accuracy: 0.9939\n",
            "Epoch 20/20\n",
            "375/375 [==============================] - 7s 17ms/step - loss: 0.0094 - accuracy: 0.9969 - val_loss: 0.0281 - val_accuracy: 0.9926\n"
          ]
        }
      ]
    },
    {
      "cell_type": "code",
      "source": [
        "history_modified = model_modified.fit(x_train, y_train, epochs=20, validation_split=0.2, batch_size=128)"
      ],
      "metadata": {
        "colab": {
          "base_uri": "https://localhost:8080/"
        },
        "id": "idBM27cpXl4K",
        "outputId": "67d45b5f-b773-458f-fa79-5b8f207f19ac"
      },
      "execution_count": 40,
      "outputs": [
        {
          "output_type": "stream",
          "name": "stdout",
          "text": [
            "Epoch 1/20\n",
            "375/375 [==============================] - 10s 18ms/step - loss: 0.4950 - accuracy: 0.8441 - val_loss: 0.6180 - val_accuracy: 0.7994\n",
            "Epoch 2/20\n",
            "375/375 [==============================] - 6s 17ms/step - loss: 0.1169 - accuracy: 0.9647 - val_loss: 0.0492 - val_accuracy: 0.9847\n",
            "Epoch 3/20\n",
            "375/375 [==============================] - 6s 17ms/step - loss: 0.0828 - accuracy: 0.9750 - val_loss: 0.0377 - val_accuracy: 0.9892\n",
            "Epoch 4/20\n",
            "375/375 [==============================] - 6s 17ms/step - loss: 0.0664 - accuracy: 0.9793 - val_loss: 0.0414 - val_accuracy: 0.9882\n",
            "Epoch 5/20\n",
            "375/375 [==============================] - 7s 18ms/step - loss: 0.0584 - accuracy: 0.9826 - val_loss: 0.0281 - val_accuracy: 0.9918\n",
            "Epoch 6/20\n",
            "375/375 [==============================] - 6s 17ms/step - loss: 0.0515 - accuracy: 0.9845 - val_loss: 0.0301 - val_accuracy: 0.9917\n",
            "Epoch 7/20\n",
            "375/375 [==============================] - 6s 17ms/step - loss: 0.0456 - accuracy: 0.9861 - val_loss: 0.0290 - val_accuracy: 0.9923\n",
            "Epoch 8/20\n",
            "375/375 [==============================] - 6s 17ms/step - loss: 0.0430 - accuracy: 0.9870 - val_loss: 0.0300 - val_accuracy: 0.9921\n",
            "Epoch 9/20\n",
            "375/375 [==============================] - 7s 17ms/step - loss: 0.0419 - accuracy: 0.9868 - val_loss: 0.0602 - val_accuracy: 0.9847\n",
            "Epoch 10/20\n",
            "375/375 [==============================] - 6s 16ms/step - loss: 0.0383 - accuracy: 0.9878 - val_loss: 0.0357 - val_accuracy: 0.9917\n",
            "Epoch 11/20\n",
            "375/375 [==============================] - 7s 18ms/step - loss: 0.0347 - accuracy: 0.9896 - val_loss: 0.0264 - val_accuracy: 0.9931\n",
            "Epoch 12/20\n",
            "375/375 [==============================] - 6s 17ms/step - loss: 0.0350 - accuracy: 0.9893 - val_loss: 0.0256 - val_accuracy: 0.9933\n",
            "Epoch 13/20\n",
            "375/375 [==============================] - 7s 17ms/step - loss: 0.0318 - accuracy: 0.9900 - val_loss: 0.0260 - val_accuracy: 0.9926\n",
            "Epoch 14/20\n",
            "375/375 [==============================] - 6s 17ms/step - loss: 0.0286 - accuracy: 0.9905 - val_loss: 0.0289 - val_accuracy: 0.9925\n",
            "Epoch 15/20\n",
            "375/375 [==============================] - 6s 17ms/step - loss: 0.0302 - accuracy: 0.9911 - val_loss: 0.0244 - val_accuracy: 0.9929\n",
            "Epoch 16/20\n",
            "375/375 [==============================] - 6s 17ms/step - loss: 0.0290 - accuracy: 0.9910 - val_loss: 0.0234 - val_accuracy: 0.9939\n",
            "Epoch 17/20\n",
            "375/375 [==============================] - 6s 17ms/step - loss: 0.0276 - accuracy: 0.9912 - val_loss: 0.0222 - val_accuracy: 0.9944\n",
            "Epoch 18/20\n",
            "375/375 [==============================] - 6s 17ms/step - loss: 0.0249 - accuracy: 0.9924 - val_loss: 0.0224 - val_accuracy: 0.9948\n",
            "Epoch 19/20\n",
            "375/375 [==============================] - 7s 18ms/step - loss: 0.0255 - accuracy: 0.9918 - val_loss: 0.0299 - val_accuracy: 0.9913\n",
            "Epoch 20/20\n",
            "375/375 [==============================] - 7s 17ms/step - loss: 0.0256 - accuracy: 0.9920 - val_loss: 0.0202 - val_accuracy: 0.9954\n"
          ]
        }
      ]
    },
    {
      "cell_type": "code",
      "source": [
        "# Check the highest validation accuracy achieved during training\n",
        "val_accuracy_basic = max(history_basic.history['val_accuracy'])\n",
        "print(f\"CNN_Basic Highest validation accuracy: {val_accuracy_basic*100:.2f}%\")\n",
        "\n",
        "val_accuracy_modified = max(history_modified.history['val_accuracy'])\n",
        "print(f\"CNN_Modified Highest validation accuracy: {val_accuracy_modified*100:.2f}%\")"
      ],
      "metadata": {
        "colab": {
          "base_uri": "https://localhost:8080/"
        },
        "id": "pYpI5Rz8Wrns",
        "outputId": "3bc277a8-a8be-4324-e14c-6c657e450b61"
      },
      "execution_count": 41,
      "outputs": [
        {
          "output_type": "stream",
          "name": "stdout",
          "text": [
            "CNN_Basic Highest validation accuracy: 99.42%\n",
            "CNN_Modified Highest validation accuracy: 99.54%\n"
          ]
        }
      ]
    },
    {
      "cell_type": "code",
      "source": [
        "import matplotlib.pyplot as plt\n",
        "plt.figure(figsize=(14, 6))\n",
        "\n",
        "# Plot basic model accuracy\n",
        "plt.subplot(1, 2, 1)\n",
        "plt.plot(history_basic.history['accuracy'], label='Train Accuracy (Basic)')\n",
        "plt.plot(history_modified.history['accuracy'], label='Train Accuracy (Modified)')\n",
        "plt.title('Train Accuracy')\n",
        "plt.ylabel('Accuracy')\n",
        "plt.xlabel('Epoch')\n",
        "plt.legend(loc='best')\n",
        "\n",
        "# Plot modified model accuracy\n",
        "plt.subplot(1, 2, 2)\n",
        "plt.plot(history_basic.history['val_accuracy'], label='Validation Accuracy (Basic)')\n",
        "plt.plot(history_modified.history['val_accuracy'], label='Validation Accuracy (Modified)')\n",
        "plt.title('Validation Accuracy')\n",
        "plt.ylabel('Accuracy')\n",
        "plt.xlabel('Epoch')\n",
        "plt.legend(loc='best')\n",
        "\n",
        "plt.show()"
      ],
      "metadata": {
        "colab": {
          "base_uri": "https://localhost:8080/",
          "height": 564
        },
        "id": "cmRAZYdqWgRP",
        "outputId": "5036bdf2-cac6-4488-aeb9-def0c0f64275"
      },
      "execution_count": 45,
      "outputs": [
        {
          "output_type": "display_data",
          "data": {
            "text/plain": [
              "<Figure size 1400x600 with 2 Axes>"
            ],
            "image/png": "[encoded data removed]"
          },
          "metadata": {}
        }
      ]
    },
    {
      "cell_type": "code",
      "source": [
        "# Select CNN_Modified with higher validation accuracy\n",
        "model = model_modified"
      ],
      "metadata": {
        "id": "N52wNBiAfKSC"
      },
      "execution_count": 47,
      "outputs": []
    },
    {
      "cell_type": "code",
      "execution_count": 48,
      "metadata": {
        "colab": {
          "base_uri": "https://localhost:8080/"
        },
        "id": "4f888MQd6n9m",
        "outputId": "3157c2e4-1ee4-456e-c73b-4b06d110f785"
      },
      "outputs": [
        {
          "output_type": "stream",
          "name": "stdout",
          "text": [
            "Epoch 1/30\n",
            "469/469 [==============================] - 85s 17ms/step - loss: 0.0261 - accuracy: 0.9925\n",
            "Epoch 2/30\n",
            "469/469 [==============================] - 7s 16ms/step - loss: 0.0247 - accuracy: 0.9922\n",
            "Epoch 3/30\n",
            "469/469 [==============================] - 8s 16ms/step - loss: 0.0258 - accuracy: 0.9924\n",
            "Epoch 4/30\n",
            "469/469 [==============================] - 8s 16ms/step - loss: 0.0212 - accuracy: 0.9936\n",
            "Epoch 5/30\n",
            "469/469 [==============================] - 7s 16ms/step - loss: 0.0214 - accuracy: 0.9933\n",
            "Epoch 6/30\n",
            "469/469 [==============================] - 8s 17ms/step - loss: 0.0197 - accuracy: 0.9939\n",
            "Epoch 7/30\n",
            "469/469 [==============================] - 8s 17ms/step - loss: 0.0192 - accuracy: 0.9937\n",
            "Epoch 8/30\n",
            "469/469 [==============================] - 8s 16ms/step - loss: 0.0208 - accuracy: 0.9938\n",
            "Epoch 9/30\n",
            "469/469 [==============================] - 8s 16ms/step - loss: 0.0191 - accuracy: 0.9937\n",
            "Epoch 10/30\n",
            "469/469 [==============================] - 7s 16ms/step - loss: 0.0196 - accuracy: 0.9942\n",
            "Epoch 11/30\n",
            "469/469 [==============================] - 8s 16ms/step - loss: 0.0178 - accuracy: 0.9947\n",
            "Epoch 12/30\n",
            "469/469 [==============================] - 8s 16ms/step - loss: 0.0177 - accuracy: 0.9944\n",
            "Epoch 13/30\n",
            "469/469 [==============================] - 7s 16ms/step - loss: 0.0173 - accuracy: 0.9947\n",
            "Epoch 14/30\n",
            "469/469 [==============================] - 8s 16ms/step - loss: 0.0164 - accuracy: 0.9951\n",
            "Epoch 15/30\n",
            "469/469 [==============================] - 8s 16ms/step - loss: 0.0144 - accuracy: 0.9955\n",
            "Epoch 16/30\n",
            "469/469 [==============================] - 8s 16ms/step - loss: 0.0163 - accuracy: 0.9949\n",
            "Epoch 17/30\n",
            "469/469 [==============================] - 8s 16ms/step - loss: 0.0136 - accuracy: 0.9958\n",
            "Epoch 18/30\n",
            "469/469 [==============================] - 7s 16ms/step - loss: 0.0165 - accuracy: 0.9951\n",
            "Epoch 19/30\n",
            "469/469 [==============================] - 8s 16ms/step - loss: 0.0141 - accuracy: 0.9956\n",
            "Epoch 20/30\n",
            "469/469 [==============================] - 8s 16ms/step - loss: 0.0141 - accuracy: 0.9957\n",
            "Epoch 21/30\n",
            "469/469 [==============================] - 7s 16ms/step - loss: 0.0136 - accuracy: 0.9953\n",
            "Epoch 22/30\n",
            "469/469 [==============================] - 8s 16ms/step - loss: 0.0139 - accuracy: 0.9957\n",
            "Epoch 23/30\n",
            "469/469 [==============================] - 8s 16ms/step - loss: 0.0156 - accuracy: 0.9955\n",
            "Epoch 24/30\n",
            "469/469 [==============================] - 7s 16ms/step - loss: 0.0127 - accuracy: 0.9957\n",
            "Epoch 25/30\n",
            "469/469 [==============================] - 8s 16ms/step - loss: 0.0139 - accuracy: 0.9956\n",
            "Epoch 26/30\n",
            "469/469 [==============================] - 7s 16ms/step - loss: 0.0109 - accuracy: 0.9964\n",
            "Epoch 27/30\n",
            "469/469 [==============================] - 8s 16ms/step - loss: 0.0143 - accuracy: 0.9955\n",
            "Epoch 28/30\n",
            "469/469 [==============================] - 8s 16ms/step - loss: 0.0126 - accuracy: 0.9961\n",
            "Epoch 29/30\n",
            "469/469 [==============================] - 8s 16ms/step - loss: 0.0106 - accuracy: 0.9963\n",
            "Epoch 30/30\n",
            "469/469 [==============================] - 8s 16ms/step - loss: 0.0118 - accuracy: 0.9965\n"
          ]
        },
        {
          "output_type": "execute_result",
          "data": {
            "text/plain": [
              "<keras.src.callbacks.History at 0x79672434f880>"
            ]
          },
          "metadata": {},
          "execution_count": 48
        }
      ],
      "source": [
        "\n",
        "\n",
        "# Retrain on the entire dataset\n",
        "model.fit(x_train, y_train, epochs=30, batch_size=128)\n"
      ]
    },
    {
      "cell_type": "code",
      "source": [
        "# Evaluate on the test set\n",
        "test_loss, test_acc = model.evaluate(x_test, y_test)\n",
        "print(f\"Test accuracy after retraining on the full dataset: {test_acc*100:.2f}%\")"
      ],
      "metadata": {
        "colab": {
          "base_uri": "https://localhost:8080/"
        },
        "id": "3k_wHWnSWVfl",
        "outputId": "1de001ec-901a-4787-f56f-108c56a9ed5c"
      },
      "execution_count": 49,
      "outputs": [
        {
          "output_type": "stream",
          "name": "stdout",
          "text": [
            "313/313 [==============================] - 1s 4ms/step - loss: 0.0179 - accuracy: 0.9956\n",
            "Test accuracy after retraining on the full dataset: 99.56%\n"
          ]
        }
      ]
    },
    {
      "cell_type": "code",
      "execution_count": 51,
      "metadata": {
        "colab": {
          "base_uri": "https://localhost:8080/"
        },
        "id": "YAN7NL8064kh",
        "outputId": "d47482b8-61a9-449b-8813-c1c3919ffbbd"
      },
      "outputs": [
        {
          "output_type": "stream",
          "name": "stdout",
          "text": [
            "313/313 [==============================] - 1s 3ms/step - loss: 0.0179 - accuracy: 0.9956\n",
            "This model predicts 99.55999851226807% of the test data correctly\n"
          ]
        }
      ],
      "source": [
        "print('This model predicts '+str(model.evaluate(x_test,y_test)[1]*100) +'% of the test data correctly')"
      ]
    }
  ],
  "metadata": {
    "accelerator": "GPU",
    "colab": {
      "gpuType": "T4",
      "provenance": []
    },
    "kernelspec": {
      "display_name": "Python 3",
      "name": "python3"
    },
    "language_info": {
      "codemirror_mode": {
        "name": "ipython",
        "version": 3
      },
      "file_extension": ".py",
      "mimetype": "text/x-python",
      "name": "python",
      "nbconvert_exporter": "python",
      "pygments_lexer": "ipython3",
      "version": "3.10.13"
    }
  },
  "nbformat": 4,
  "nbformat_minor": 0
}